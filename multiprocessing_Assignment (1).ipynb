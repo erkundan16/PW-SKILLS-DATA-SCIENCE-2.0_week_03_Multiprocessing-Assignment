{
 "cells": [
  {
   "cell_type": "markdown",
   "id": "4f8bbb68-fa10-4842-a2a5-56475368b76a",
   "metadata": {},
   "source": [
    "Q1. What is multiprocessing in python? Why is it useful?"
   ]
  },
  {
   "cell_type": "markdown",
   "id": "f71927ab-c1fa-4f49-a537-68495b855f07",
   "metadata": {},
   "source": [
    "Multiprocessing in Python: Multiprocessing is a technique where multiple processes are created to execute tasks concurrently. In Python, the multiprocessing module allows the creation, synchronization, and communication between separate processes. It is useful when you want to utilize multiple CPU cores to perform tasks in parallel, thus increasing the overall processing speed and efficiency of the program."
   ]
  },
  {
   "cell_type": "markdown",
   "id": "0e28c67b-236d-4580-a547-1ca9597c3502",
   "metadata": {},
   "source": [
    "Q2. What are the differences between multiprocessing and multithreading?"
   ]
  },
  {
   "cell_type": "markdown",
   "id": "8b16705a-433c-4d6f-a3b4-61f34f836c7b",
   "metadata": {},
   "source": [
    "Differences between Multiprocessing and Multithreading:\n",
    "\n",
    "Multiprocessing: Involves creating multiple processes that run independently. Each process has its own memory space. Suitable for CPU-bound tasks and takes advantage of multiple CPU cores.\n",
    "Multithreading: Involves creating multiple threads within a process. All threads share the same memory space. Suitable for I/O-bound tasks where the program spends a lot of time waiting for input/output operations to complete."
   ]
  },
  {
   "cell_type": "markdown",
   "id": "68985dcd-013e-4383-9c0a-6b0b6975a6dc",
   "metadata": {},
   "source": [
    "Q3. Write a python code to create a process using the multiprocessing module."
   ]
  },
  {
   "cell_type": "code",
   "execution_count": null,
   "id": "7a0b3c72-474e-493a-a844-a9d5076d5cf5",
   "metadata": {},
   "outputs": [],
   "source": [
    "import logging\n",
    "import multiprocessing\n",
    "\n",
    "def my_process():\n",
    "    try:\n",
    "        logging.info(\"This is a multiprocessing process.\")\n",
    "    except Exception as e:\n",
    "        logging.exception(f\"An error occurred: {e}\")\n",
    "\n",
    "if __name__ == \"__main__\":\n",
    "    logging.basicConfig(level=logging.INFO, filename='multiprocessing.log', filemode='w',\n",
    "                        format='%(name)s - %(levelname)s - %(message)s')\n",
    "    p = multiprocessing.Process(target=my_process)\n",
    "\n",
    "    try:\n",
    "        p.start()\n",
    "    except Exception as e:\n",
    "        logging.exception(f\"An error occurred while starting the process: {e}\")\n"
   ]
  },
  {
   "cell_type": "markdown",
   "id": "dfd45aec-c3de-474a-9ed8-e498aa30487d",
   "metadata": {},
   "source": [
    "Q4. What is a multiprocessing pool in python? Why is it used?"
   ]
  },
  {
   "cell_type": "markdown",
   "id": "a5eeceae-197b-4e90-adf4-81c885e4a0fa",
   "metadata": {},
   "source": [
    "Multiprocessing Pool in Python: multiprocessing.Pool is a class that represents a pool of worker processes. It's used to manage the execution of a large number of processes. It provides a simple way to parallelize the execution of a function across multiple input values, distributing the input data across processes."
   ]
  },
  {
   "cell_type": "markdown",
   "id": "a5f655a7-1e85-49e3-a508-4e331d22ce52",
   "metadata": {},
   "source": [
    "Q5. How can we create a pool of worker processes in python using the multiprocessing module?"
   ]
  },
  {
   "cell_type": "code",
   "execution_count": null,
   "id": "67b9ca2b-23f3-45ec-bedd-ecdc99905c90",
   "metadata": {},
   "outputs": [],
   "source": [
    "import logging\n",
    "import multiprocessing\n",
    "\n",
    "def my_function(x):\n",
    "    return x*x\n",
    "\n",
    "if __name__ == '__main__':\n",
    "    logging.basicConfig(level=logging.INFO, filename='multiprocessing.log', filemode='w',\n",
    "                        format='%(name)s - %(levelname)s - %(message)s')\n",
    "\n",
    "    try:\n",
    "        with multiprocessing.Pool(processes=4) as pool:\n",
    "            result = pool.map(my_function, [1, 2, 3, 4, 5])\n",
    "            logging.info(f\"Result: {result}\")\n",
    "    except Exception as e:\n",
    "        logging.exception(f\"An error occurred: {e}\")\n"
   ]
  },
  {
   "cell_type": "raw",
   "id": "431dc90e-fffa-4ae5-9474-d43bb00fdc7f",
   "metadata": {},
   "source": [
    "Q6. Write a python program to create 4 processes, each process should print a different number using the\n",
    "multiprocessing module in python."
   ]
  },
  {
   "cell_type": "code",
   "execution_count": null,
   "id": "5dbe9e4d-8172-4485-a4d8-c705a927c489",
   "metadata": {},
   "outputs": [],
   "source": [
    "import logging\n",
    "import multiprocessing\n",
    "\n",
    "def print_number(num):\n",
    "    try:\n",
    "        logging.info(f\"Process {num}: {num}\")\n",
    "    except Exception as e:\n",
    "        logging.exception(f\"An error occurred: {e}\")\n",
    "\n",
    "if __name__ == '__main__':\n",
    "    logging.basicConfig(level=logging.INFO, filename='multiprocessing.log', filemode='w',\n",
    "                        format='%(name)s - %(levelname)s - %(message)s')\n",
    "    processes = []\n",
    "\n",
    "    for i in range(1, 5):\n",
    "        process = multiprocessing.Process(target=print_number, args=(i,))\n",
    "        processes.append(process)\n",
    "\n",
    "    try:\n",
    "        for process in processes:\n",
    "            process.start()\n",
    "\n",
    "        for process in processes:\n",
    "            process.join()\n",
    "    except Exception as e:\n",
    "        logging.exception(f\"An error occurred: {e}\")\n"
   ]
  }
 ],
 "metadata": {
  "kernelspec": {
   "display_name": "Python 3 (ipykernel)",
   "language": "python",
   "name": "python3"
  },
  "language_info": {
   "codemirror_mode": {
    "name": "ipython",
    "version": 3
   },
   "file_extension": ".py",
   "mimetype": "text/x-python",
   "name": "python",
   "nbconvert_exporter": "python",
   "pygments_lexer": "ipython3",
   "version": "3.10.8"
  }
 },
 "nbformat": 4,
 "nbformat_minor": 5
}
